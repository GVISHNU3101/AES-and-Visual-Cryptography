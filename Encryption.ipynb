{
 "cells": [
  {
   "cell_type": "code",
   "execution_count": null,
   "metadata": {},
   "outputs": [],
   "source": [
    "import base64\n",
    "import hashlib \n",
    "from Crypto.Cipher import AES\n",
    "from Crypto.Random import new as Random\n",
    "from hashlib import sha256\n",
    "from base64 import b64encode,b64decode\n",
    "import numpy as np\n",
    "import cv2\n",
    "import pandas as pd\n",
    "from sklearn.linear_model import LinearRegression"
   ]
  },
  {
   "cell_type": "code",
   "execution_count": null,
   "metadata": {
    "scrolled": true
   },
   "outputs": [],
   "source": [
    "# Reading input Image and encoding it using base64\n",
    "with open(\"pics/test3.jpg\", \"rb\") as img_file:\n",
    "    BI = b64encode(img_file.read())\n",
    "print(BI)\n",
    "BI = BI.decode(\"utf-8\")"
   ]
  },
  {
   "cell_type": "code",
   "execution_count": null,
   "metadata": {},
   "outputs": [],
   "source": [
    "# My key\n",
    "K = \"\"\n",
    "f = open('keys/mykey.txt','r')\n",
    "for i in f:\n",
    "    K += i\n",
    "f.close()\n",
    "K"
   ]
  },
  {
   "cell_type": "code",
   "execution_count": null,
   "metadata": {},
   "outputs": [],
   "source": [
    "import base64\n",
    "import hashlib \n",
    "from Crypto.Cipher import AES\n",
    "from Crypto.Random import new as Random\n",
    "from hashlib import sha256\n",
    "from base64 import b64encode,b64decode\n",
    "import numpy as np\n",
    "import cv2\n",
    "import pandas as pd\n",
    "from sklearn.linear_model import LinearRegression"
   ]
  },
  {
   "cell_type": "code",
   "execution_count": null,
   "metadata": {
    "scrolled": true
   },
   "outputs": [],
   "source": [
    "# Reading input Image and encoding it using base64\n",
    "with open(\"pics/test3.jpg\", \"rb\") as img_file:\n",
    "    BI = b64encode(img_file.read())\n",
    "print(BI)\n",
    "BI = BI.decode(\"utf-8\")"
   ]
  },
  {
   "cell_type": "code",
   "execution_count": null,
   "metadata": {},
   "outputs": [],
   "source": [
    "# My key\n",
    "K = \"\"\n",
    "f = open('keys/mykey.txt','r')\n",
    "for i in f:\n",
    "    K += i\n",
    "f.close()\n",
    "K"
   ]
  },
  {
   "cell_type": "code",
   "execution_count": null,
   "metadata": {},
   "outputs": [],
   "source": [
    "SK = hashlib.sha256(K.encode()) \n",
    "\n",
    "print(\"The hexadecimal equivalent of SHA256 is : \") \n",
    "print(SK.hexdigest())"
   ]
  },
  {
   "cell_type": "code",
   "execution_count": null,
   "metadata": {},
   "outputs": [],
   "source": [
    "# AES 256 in OFB mode:\n",
    "\n",
    "\n",
    "class AESCipher:\n",
    "    def __init__(self,data,key):\n",
    "        self.block_size = 16\n",
    "        self.data = data\n",
    "        self.key = sha256(key.encode()).digest()[:32]\n",
    "        self.pad = lambda s: s + (self.block_size - len(s) % self.block_size) * chr (self.block_size - len(s) % self.block_size)\n",
    "        self.unpad = lambda s: s[:-ord(s[len(s) - 1:])]\n",
    "\n",
    "    def encrypt(self):\n",
    "        plain_text = self.pad(self.data)\n",
    "        iv = Random().read(AES.block_size)\n",
    "        cipher = AES.new(self.key,AES.MODE_OFB,iv)\n",
    "        return b64encode(iv + cipher.encrypt(plain_text.encode())).decode()"
   ]
  },
  {
   "cell_type": "code",
   "execution_count": null,
   "metadata": {},
   "outputs": [],
   "source": [
    "# Encrypting image using base 64 encoded text and hashed key - SHA256\n",
    "# AES-256\n",
    "c = AESCipher(BI,SK.hexdigest()).encrypt()\n",
    "print(c)"
   ]
  },
  {
   "cell_type": "code",
   "execution_count": null,
   "metadata": {},
   "outputs": [],
   "source": [
    "w = 255\n",
    "h = len(K)"
   ]
  },
  {
   "cell_type": "code",
   "execution_count": null,
   "metadata": {},
   "outputs": [],
   "source": [
    "# creating new Image C of size(w,h) \n",
    "# initializing as blank\n",
    "C = np.ones((h,w,1), dtype = 'uint8')"
   ]
  },
  {
   "cell_type": "code",
   "execution_count": null,
   "metadata": {},
   "outputs": [],
   "source": [
    "# Filling pixels in C\n",
    "for i in range(h):\n",
    "    j = ord(K[i])\n",
    "    for k in range(w):\n",
    "        if k < j:\n",
    "            C[i][k][0] = 0\n",
    "        else:\n",
    "            break"
   ]
  },
  {
   "cell_type": "code",
   "execution_count": null,
   "metadata": {},
   "outputs": [],
   "source": [
    "# Dividing C into R and P\n",
    "# initializing R and P of same size as C\n",
    "R = np.ones((h,w,3), dtype = 'uint8')\n",
    "P = np.ones((h,w,3), dtype = 'uint8')"
   ]
  },
  {
   "cell_type": "code",
   "execution_count": null,
   "metadata": {},
   "outputs": [],
   "source": [
    "# filling the pixels of R\n",
    "for i in range(h):\n",
    "    for j in range(w):\n",
    "        r = np.random.normal(0,1,1)\n",
    "        R[i][j][0] = r"
   ]
  },
  {
   "cell_type": "code",
   "execution_count": null,
   "metadata": {},
   "outputs": [],
   "source": [
    "# filling the pixels of P\n",
    "for i in range(h):\n",
    "    for j in range(w):\n",
    "        p = R[i][j][0] ^ C[i][j][0]\n",
    "        P[i][j][0] = p"
   ]
  },
  {
   "cell_type": "code",
   "execution_count": null,
   "metadata": {},
   "outputs": [],
   "source": [
    "filename=\"ToBeSent for Decryption/C.png\"\n",
    "cv2.imwrite(filename, C)"
   ]
  },
  {
   "cell_type": "code",
   "execution_count": null,
   "metadata": {},
   "outputs": [],
   "source": [
    "filename='ToBesent for Decryption/R.png'\n",
    "cv2.imwrite(filename,R)"
   ]
  },
  {
   "cell_type": "code",
   "execution_count": null,
   "metadata": {},
   "outputs": [],
   "source": [
    "filename = 'ToBeSent for Decryption/P.png'\n",
    "cv2.imwrite(filename, P)"
   ]
  },
  {
   "cell_type": "code",
   "execution_count": null,
   "metadata": {},
   "outputs": [],
   "source": [
    "xdf = pd.DataFrame(columns = ['1','2'])\n",
    "a = []\n",
    "b = []\n",
    "for i in P:\n",
    "    k = 0\n",
    "    n1 = []\n",
    "    n2 = []\n",
    "    for j in i:\n",
    "        if k%2==0:\n",
    "            n1.append(np.sum(j))\n",
    "        else:\n",
    "            n2.append(np.sum(j))\n",
    "        k += 1    \n",
    "    a.append(sum(n1))\n",
    "    b.append(sum(n2))\n",
    "xdf['1'] = a\n",
    "xdf['2'] = b"
   ]
  },
  {
   "cell_type": "code",
   "execution_count": null,
   "metadata": {},
   "outputs": [],
   "source": [
    "ydf = pd.DataFrame(columns = ['1','2'])\n",
    "a = []\n",
    "b = []\n",
    "for i in R:\n",
    "    k = 0\n",
    "    n1 = []\n",
    "    n2 = []\n",
    "    for j in i:\n",
    "        if k%2==0:\n",
    "            n1.append(np.sum(j))\n",
    "        else:\n",
    "            n2.append(np.sum(j))\n",
    "        k += 1    \n",
    "    a.append(sum(n1))\n",
    "    b.append(sum(n2))\n",
    "ydf['1'] = a\n",
    "ydf['2'] = b"
   ]
  },
  {
   "cell_type": "code",
   "execution_count": null,
   "metadata": {},
   "outputs": [],
   "source": [
    "LRmodel = LinearRegression()\n",
    "LRmodel.fit(xdf,ydf)"
   ]
  },
  {
   "cell_type": "code",
   "execution_count": null,
   "metadata": {},
   "outputs": [],
   "source": [
    "# z is for prediction\n",
    "zdf = pd.DataFrame(columns = ['1','2'])\n",
    "a = []\n",
    "b = []\n",
    "for i in C:\n",
    "    k = 0\n",
    "    n1 = []\n",
    "    n2 = []\n",
    "    for j in i:\n",
    "        if k%2==0:\n",
    "            n1.append(np.sum(j))\n",
    "        else:\n",
    "            n2.append(np.sum(j))\n",
    "        k += 1    \n",
    "    a.append(sum(n1))\n",
    "    b.append(sum(n2))\n",
    "zdf['1'] = a\n",
    "zdf['2'] = b"
   ]
  },
  {
   "cell_type": "code",
   "execution_count": null,
   "metadata": {},
   "outputs": [],
   "source": [
    "predict = LRmodel.predict([[sum(zdf['1']),sum(zdf['2'])]])"
   ]
  },
  {
   "cell_type": "code",
   "execution_count": null,
   "metadata": {},
   "outputs": [],
   "source": [
    "x = round(predict[0][0])%26\n",
    "y = round(predict[0][1])%26"
   ]
  },
  {
   "cell_type": "code",
   "execution_count": null,
   "metadata": {},
   "outputs": [],
   "source": [
    "txt = []\n",
    "for each in c:\n",
    "    ch = ord(each) + x - y\n",
    "    txt.append(int(ch))"
   ]
  },
  {
   "cell_type": "code",
   "execution_count": null,
   "metadata": {},
   "outputs": [],
   "source": [
    "text = \"\"\n",
    "for t in txt:\n",
    "    text += chr(t) + \" \""
   ]
  },
  {
   "cell_type": "code",
   "execution_count": null,
   "metadata": {},
   "outputs": [],
   "source": [
    "f = open(\"ToBeSent for Decryption/cipher3.txt\",'a',encoding='utf-8')\n",
    "f.write(text)\n",
    "f.close()"
   ]
  },
  {
   "cell_type": "code",
   "execution_count": null,
   "metadata": {},
   "outputs": [],
   "source": [
    "SK = hashlib.sha256(K.encode()) \n",
    "\n",
    "print(\"The hexadecimal equivalent of SHA256 is : \") \n",
    "print(SK.hexdigest())"
   ]
  },
  {
   "cell_type": "code",
   "execution_count": null,
   "metadata": {},
   "outputs": [],
   "source": [
    "# AES 256 in OFB mode:\n",
    "\n",
    "\n",
    "class AESCipher:\n",
    "    def __init__(self,data,key):\n",
    "        self.block_size = 16\n",
    "        self.data = data\n",
    "        self.key = sha256(key.encode()).digest()[:32]\n",
    "        self.pad = lambda s: s + (self.block_size - len(s) % self.block_size) * chr (self.block_size - len(s) % self.block_size)\n",
    "        self.unpad = lambda s: s[:-ord(s[len(s) - 1:])]\n",
    "\n",
    "    def encrypt(self):\n",
    "        plain_text = self.pad(self.data)\n",
    "        iv = Random().read(AES.block_size)\n",
    "        cipher = AES.new(self.key,AES.MODE_OFB,iv)\n",
    "        return b64encode(iv + cipher.encrypt(plain_text.encode())).decode()"
   ]
  },
  {
   "cell_type": "code",
   "execution_count": null,
   "metadata": {},
   "outputs": [],
   "source": [
    "# Encrypting image using base 64 encoded text and hashed key - SHA256\n",
    "# AES-256\n",
    "c = AESCipher(BI,SK.hexdigest()).encrypt()\n",
    "print(c)"
   ]
  },
  {
   "cell_type": "code",
   "execution_count": null,
   "metadata": {},
   "outputs": [],
   "source": [
    "w = 255\n",
    "h = len(K)"
   ]
  },
  {
   "cell_type": "code",
   "execution_count": null,
   "metadata": {},
   "outputs": [],
   "source": [
    "# creating new Image C of size(w,h) \n",
    "# initializing as blank\n",
    "C = np.ones((h,w,1), dtype = 'uint8')"
   ]
  },
  {
   "cell_type": "code",
   "execution_count": null,
   "metadata": {},
   "outputs": [],
   "source": [
    "# Filling pixels in C\n",
    "for i in range(h):\n",
    "    j = ord(K[i])\n",
    "    for k in range(w):\n",
    "        if k < j:\n",
    "            C[i][k][0] = 0\n",
    "        else:\n",
    "            break"
   ]
  },
  {
   "cell_type": "code",
   "execution_count": null,
   "metadata": {},
   "outputs": [],
   "source": [
    "# Dividing C into R and P\n",
    "# initializing R and P of same size as C\n",
    "R = np.ones((h,w,3), dtype = 'uint8')\n",
    "P = np.ones((h,w,3), dtype = 'uint8')"
   ]
  },
  {
   "cell_type": "code",
   "execution_count": null,
   "metadata": {},
   "outputs": [],
   "source": [
    "# filling the pixels of R\n",
    "for i in range(h):\n",
    "    for j in range(w):\n",
    "        r = np.random.normal(0,1,1)\n",
    "        R[i][j][0] = r"
   ]
  },
  {
   "cell_type": "code",
   "execution_count": null,
   "metadata": {},
   "outputs": [],
   "source": [
    "# filling the pixels of P\n",
    "for i in range(h):\n",
    "    for j in range(w):\n",
    "        p = R[i][j][0] ^ C[i][j][0]\n",
    "        P[i][j][0] = p"
   ]
  },
  {
   "cell_type": "code",
   "execution_count": null,
   "metadata": {},
   "outputs": [],
   "source": [
    "filename=\"ToBeSent for Decryption/C.png\"\n",
    "cv2.imwrite(filename, C)"
   ]
  },
  {
   "cell_type": "code",
   "execution_count": null,
   "metadata": {},
   "outputs": [],
   "source": [
    "filename='ToBesent for Decryption/R.png'\n",
    "cv2.imwrite(filename,R)"
   ]
  },
  {
   "cell_type": "code",
   "execution_count": null,
   "metadata": {},
   "outputs": [],
   "source": [
    "filename = 'ToBeSent for Decryption/P.png'\n",
    "cv2.imwrite(filename, P)"
   ]
  },
  {
   "cell_type": "code",
   "execution_count": null,
   "metadata": {},
   "outputs": [],
   "source": [
    "xdf = pd.DataFrame(columns = ['1','2'])\n",
    "a = []\n",
    "b = []\n",
    "for i in P:\n",
    "    k = 0\n",
    "    n1 = []\n",
    "    n2 = []\n",
    "    for j in i:\n",
    "        if k%2==0:\n",
    "            n1.append(np.sum(j))\n",
    "        else:\n",
    "            n2.append(np.sum(j))\n",
    "        k += 1    \n",
    "    a.append(sum(n1))\n",
    "    b.append(sum(n2))\n",
    "xdf['1'] = a\n",
    "xdf['2'] = b"
   ]
  },
  {
   "cell_type": "code",
   "execution_count": null,
   "metadata": {},
   "outputs": [],
   "source": [
    "ydf = pd.DataFrame(columns = ['1','2'])\n",
    "a = []\n",
    "b = []\n",
    "for i in R:\n",
    "    k = 0\n",
    "    n1 = []\n",
    "    n2 = []\n",
    "    for j in i:\n",
    "        if k%2==0:\n",
    "            n1.append(np.sum(j))\n",
    "        else:\n",
    "            n2.append(np.sum(j))\n",
    "        k += 1    \n",
    "    a.append(sum(n1))\n",
    "    b.append(sum(n2))\n",
    "ydf['1'] = a\n",
    "ydf['2'] = b"
   ]
  },
  {
   "cell_type": "code",
   "execution_count": null,
   "metadata": {},
   "outputs": [],
   "source": [
    "LRmodel = LinearRegression()\n",
    "LRmodel.fit(xdf,ydf)"
   ]
  },
  {
   "cell_type": "code",
   "execution_count": null,
   "metadata": {},
   "outputs": [],
   "source": [
    "# z is for prediction\n",
    "zdf = pd.DataFrame(columns = ['1','2'])\n",
    "a = []\n",
    "b = []\n",
    "for i in C:\n",
    "    k = 0\n",
    "    n1 = []\n",
    "    n2 = []\n",
    "    for j in i:\n",
    "        if k%2==0:\n",
    "            n1.append(np.sum(j))\n",
    "        else:\n",
    "            n2.append(np.sum(j))\n",
    "        k += 1    \n",
    "    a.append(sum(n1))\n",
    "    b.append(sum(n2))\n",
    "zdf['1'] = a\n",
    "zdf['2'] = b"
   ]
  },
  {
   "cell_type": "code",
   "execution_count": null,
   "metadata": {},
   "outputs": [],
   "source": [
    "predict = LRmodel.predict([[sum(zdf['1']),sum(zdf['2'])]])"
   ]
  },
  {
   "cell_type": "code",
   "execution_count": null,
   "metadata": {},
   "outputs": [],
   "source": [
    "x = round(predict[0][0])%26\n",
    "y = round(predict[0][1])%26"
   ]
  },
  {
   "cell_type": "code",
   "execution_count": null,
   "metadata": {},
   "outputs": [],
   "source": [
    "txt = []\n",
    "for each in c:\n",
    "    ch = ord(each) + x - y\n",
    "    txt.append(int(ch))"
   ]
  },
  {
   "cell_type": "code",
   "execution_count": null,
   "metadata": {},
   "outputs": [],
   "source": [
    "text = \"\"\n",
    "for t in txt:\n",
    "    text += chr(t) + \" \""
   ]
  },
  {
   "cell_type": "code",
   "execution_count": null,
   "metadata": {},
   "outputs": [],
   "source": [
    "f = open(\"ToBeSent for Decryption/cipher3.txt\",'a',encoding='utf-8')\n",
    "f.write(text)\n",
    "f.close()"
   ]
  }
 ],
 "metadata": {
  "kernelspec": {
   "display_name": "Python 3.10.2 64-bit",
   "language": "python",
   "name": "python3"
  },
  "language_info": {
   "codemirror_mode": {
    "name": "ipython",
    "version": 3
   },
   "file_extension": ".py",
   "mimetype": "text/x-python",
   "name": "python",
   "nbconvert_exporter": "python",
   "pygments_lexer": "ipython3",
   "version": "3.10.2"
  },
  "vscode": {
   "interpreter": {
    "hash": "369f2c481f4da34e4445cda3fffd2e751bd1c4d706f27375911949ba6bb62e1c"
   }
  }
 },
 "nbformat": 4,
 "nbformat_minor": 4
}
