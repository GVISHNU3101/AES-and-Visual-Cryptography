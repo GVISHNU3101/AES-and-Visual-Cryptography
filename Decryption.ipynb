{
 "cells": [
  {
   "cell_type": "code",
   "execution_count": 180,
   "metadata": {},
   "outputs": [],
   "source": [
    "from sklearn.linear_model import LinearRegression\n",
    "import numpy as np\n",
    "import cv2\n",
    "import hashlib\n",
    "from Crypto.Cipher import AES\n",
    "from Crypto.Random import new as Random\n",
    "from hashlib import sha256\n",
    "from base64 import b64encode,b64decode\n",
    "import pandas as pd"
   ]
  },
  {
   "cell_type": "code",
   "execution_count": 181,
   "metadata": {},
   "outputs": [],
   "source": [
    "f = open(\"ToBeSent for Decryption/cipher3.txt\",'r',encoding='utf-8')\n",
    "cipher = f.read()\n",
    "f.close()"
   ]
  },
  {
   "cell_type": "code",
   "execution_count": 182,
   "metadata": {},
   "outputs": [],
   "source": [
    "# reading P and R images\n",
    "P = cv2.imread('ToBeSent for Decryption/P.png')\n",
    "R = cv2.imread('ToBeSent for Decryption/R.png')"
   ]
  },
  {
   "cell_type": "code",
   "execution_count": 183,
   "metadata": {},
   "outputs": [],
   "source": [
    "#intializing h and w\n",
    "h = np.shape(P)[0] #rows\n",
    "w = np.shape(P)[1] #coloumn"
   ]
  },
  {
   "cell_type": "code",
   "execution_count": 184,
   "metadata": {},
   "outputs": [],
   "source": [
    "# initialize the image CK\n",
    "CK = np.ones((h,w,1), dtype = 'uint8')"
   ]
  },
  {
   "cell_type": "code",
   "execution_count": 185,
   "metadata": {},
   "outputs": [],
   "source": [
    "for i in range(h):\n",
    "    for j in range(w):\n",
    "        ck = P[i][j][0] ^ R[i][j][0] \n",
    "        CK[i][j][0] = ck"
   ]
  },
  {
   "cell_type": "code",
   "execution_count": 186,
   "metadata": {},
   "outputs": [],
   "source": [
    "K1 = []\n",
    "for i in range(len(CK)):\n",
    "    K1.append(0)"
   ]
  },
  {
   "cell_type": "code",
   "execution_count": 187,
   "metadata": {},
   "outputs": [],
   "source": [
    "for i in range(len(CK)):\n",
    "    count = 0\n",
    "    for j in range(len(CK[i])):\n",
    "        if CK[i][j][0] == 0: #counting the number of pixels which have 0 as value\n",
    "            count += 1\n",
    "    K1[i] = chr(count)"
   ]
  },
  {
   "cell_type": "code",
   "execution_count": 188,
   "metadata": {},
   "outputs": [
    {
     "data": {
      "text/plain": [
       "'Hello, NITPY. This is the Key.'"
      ]
     },
     "execution_count": 188,
     "metadata": {},
     "output_type": "execute_result"
    }
   ],
   "source": [
    "K1 = \"\".join(K1) # list into string\n",
    "K1"
   ]
  },
  {
   "cell_type": "code",
   "execution_count": 189,
   "metadata": {},
   "outputs": [
    {
     "name": "stdout",
     "output_type": "stream",
     "text": [
      "The hexadecimal equivalent of SHA256 is : \n",
      "c82e18da3776cbabff41c6f5ec7d4ecd8eaa35694fba37662dcc2d704067c567\n"
     ]
    }
   ],
   "source": [
    "SK1 = hashlib.sha256(K1.encode()) \n",
    "\n",
    "print(\"The hexadecimal equivalent of SHA256 is : \") \n",
    "print(SK1.hexdigest())"
   ]
  },
  {
   "cell_type": "code",
   "execution_count": 190,
   "metadata": {},
   "outputs": [],
   "source": [
    "# AES 256 in OFB mode:\n",
    "class AESCipher:\n",
    "    def __init__(self,data,key):\n",
    "        self.block_size = 16\n",
    "        self.data = data\n",
    "        self.key = sha256(key.encode()).digest()[:32]\n",
    "        self.pad = lambda s: s + (self.block_size - len(s) % self.block_size) * chr (self.block_size - len(s) % self.block_size)\n",
    "        self.unpad = lambda s: s[:-ord(s[len(s) - 1:])]\n",
    "\n",
    "    def decrypt(self):\n",
    "        cipher_text = b64decode(self.data.encode())\n",
    "        iv = cipher_text[:self.block_size]\n",
    "        cipher = AES.new(self.key,AES.MODE_OFB,iv)\n",
    "        return self.unpad(cipher.decrypt(cipher_text[self.block_size:])).decode()"
   ]
  },
  {
   "cell_type": "code",
   "execution_count": 191,
   "metadata": {},
   "outputs": [],
   "source": [
    "xdf = pd.DataFrame(columns = ['1','2'])\n",
    "a = []\n",
    "b = []\n",
    "for i in P:\n",
    "    k = 0\n",
    "    n1 = []\n",
    "    n2 = []\n",
    "    for j in i:\n",
    "        if k%2==0:\n",
    "            n1.append(np.sum(j))\n",
    "        else:\n",
    "            n2.append(np.sum(j))\n",
    "        k += 1    \n",
    "    a.append(sum(n1))\n",
    "    b.append(sum(n2))\n",
    "xdf['1'] = a\n",
    "xdf['2'] = b"
   ]
  },
  {
   "cell_type": "code",
   "execution_count": 192,
   "metadata": {},
   "outputs": [],
   "source": [
    "ydf = pd.DataFrame(columns = ['1','2'])\n",
    "a = []\n",
    "b = []\n",
    "for i in R:\n",
    "    k = 0\n",
    "    n1 = []\n",
    "    n2 = []\n",
    "    for j in i:\n",
    "        if k%2==0:\n",
    "            n1.append(np.sum(j))\n",
    "        else:\n",
    "            n2.append(np.sum(j))\n",
    "        k += 1    \n",
    "    a.append(sum(n1))\n",
    "    b.append(sum(n2))\n",
    "ydf['1'] = a\n",
    "ydf['2'] = b"
   ]
  },
  {
   "cell_type": "code",
   "execution_count": 193,
   "metadata": {},
   "outputs": [
    {
     "data": {
      "text/html": [
       "<style>#sk-container-id-8 {color: black;background-color: white;}#sk-container-id-8 pre{padding: 0;}#sk-container-id-8 div.sk-toggleable {background-color: white;}#sk-container-id-8 label.sk-toggleable__label {cursor: pointer;display: block;width: 100%;margin-bottom: 0;padding: 0.3em;box-sizing: border-box;text-align: center;}#sk-container-id-8 label.sk-toggleable__label-arrow:before {content: \"▸\";float: left;margin-right: 0.25em;color: #696969;}#sk-container-id-8 label.sk-toggleable__label-arrow:hover:before {color: black;}#sk-container-id-8 div.sk-estimator:hover label.sk-toggleable__label-arrow:before {color: black;}#sk-container-id-8 div.sk-toggleable__content {max-height: 0;max-width: 0;overflow: hidden;text-align: left;background-color: #f0f8ff;}#sk-container-id-8 div.sk-toggleable__content pre {margin: 0.2em;color: black;border-radius: 0.25em;background-color: #f0f8ff;}#sk-container-id-8 input.sk-toggleable__control:checked~div.sk-toggleable__content {max-height: 200px;max-width: 100%;overflow: auto;}#sk-container-id-8 input.sk-toggleable__control:checked~label.sk-toggleable__label-arrow:before {content: \"▾\";}#sk-container-id-8 div.sk-estimator input.sk-toggleable__control:checked~label.sk-toggleable__label {background-color: #d4ebff;}#sk-container-id-8 div.sk-label input.sk-toggleable__control:checked~label.sk-toggleable__label {background-color: #d4ebff;}#sk-container-id-8 input.sk-hidden--visually {border: 0;clip: rect(1px 1px 1px 1px);clip: rect(1px, 1px, 1px, 1px);height: 1px;margin: -1px;overflow: hidden;padding: 0;position: absolute;width: 1px;}#sk-container-id-8 div.sk-estimator {font-family: monospace;background-color: #f0f8ff;border: 1px dotted black;border-radius: 0.25em;box-sizing: border-box;margin-bottom: 0.5em;}#sk-container-id-8 div.sk-estimator:hover {background-color: #d4ebff;}#sk-container-id-8 div.sk-parallel-item::after {content: \"\";width: 100%;border-bottom: 1px solid gray;flex-grow: 1;}#sk-container-id-8 div.sk-label:hover label.sk-toggleable__label {background-color: #d4ebff;}#sk-container-id-8 div.sk-serial::before {content: \"\";position: absolute;border-left: 1px solid gray;box-sizing: border-box;top: 0;bottom: 0;left: 50%;z-index: 0;}#sk-container-id-8 div.sk-serial {display: flex;flex-direction: column;align-items: center;background-color: white;padding-right: 0.2em;padding-left: 0.2em;position: relative;}#sk-container-id-8 div.sk-item {position: relative;z-index: 1;}#sk-container-id-8 div.sk-parallel {display: flex;align-items: stretch;justify-content: center;background-color: white;position: relative;}#sk-container-id-8 div.sk-item::before, #sk-container-id-8 div.sk-parallel-item::before {content: \"\";position: absolute;border-left: 1px solid gray;box-sizing: border-box;top: 0;bottom: 0;left: 50%;z-index: -1;}#sk-container-id-8 div.sk-parallel-item {display: flex;flex-direction: column;z-index: 1;position: relative;background-color: white;}#sk-container-id-8 div.sk-parallel-item:first-child::after {align-self: flex-end;width: 50%;}#sk-container-id-8 div.sk-parallel-item:last-child::after {align-self: flex-start;width: 50%;}#sk-container-id-8 div.sk-parallel-item:only-child::after {width: 0;}#sk-container-id-8 div.sk-dashed-wrapped {border: 1px dashed gray;margin: 0 0.4em 0.5em 0.4em;box-sizing: border-box;padding-bottom: 0.4em;background-color: white;}#sk-container-id-8 div.sk-label label {font-family: monospace;font-weight: bold;display: inline-block;line-height: 1.2em;}#sk-container-id-8 div.sk-label-container {text-align: center;}#sk-container-id-8 div.sk-container {/* jupyter's `normalize.less` sets `[hidden] { display: none; }` but bootstrap.min.css set `[hidden] { display: none !important; }` so we also need the `!important` here to be able to override the default hidden behavior on the sphinx rendered scikit-learn.org. See: https://github.com/scikit-learn/scikit-learn/issues/21755 */display: inline-block !important;position: relative;}#sk-container-id-8 div.sk-text-repr-fallback {display: none;}</style><div id=\"sk-container-id-8\" class=\"sk-top-container\"><div class=\"sk-text-repr-fallback\"><pre>LinearRegression()</pre><b>In a Jupyter environment, please rerun this cell to show the HTML representation or trust the notebook. <br />On GitHub, the HTML representation is unable to render, please try loading this page with nbviewer.org.</b></div><div class=\"sk-container\" hidden><div class=\"sk-item\"><div class=\"sk-estimator sk-toggleable\"><input class=\"sk-toggleable__control sk-hidden--visually\" id=\"sk-estimator-id-8\" type=\"checkbox\" checked><label for=\"sk-estimator-id-8\" class=\"sk-toggleable__label sk-toggleable__label-arrow\">LinearRegression</label><div class=\"sk-toggleable__content\"><pre>LinearRegression()</pre></div></div></div></div></div>"
      ],
      "text/plain": [
       "LinearRegression()"
      ]
     },
     "execution_count": 193,
     "metadata": {},
     "output_type": "execute_result"
    }
   ],
   "source": [
    "LRmodel = LinearRegression()\n",
    "LRmodel.fit(xdf,ydf)"
   ]
  },
  {
   "cell_type": "code",
   "execution_count": 194,
   "metadata": {},
   "outputs": [],
   "source": [
    "zdf = pd.DataFrame(columns = ['1','2'])\n",
    "a = []\n",
    "b = []\n",
    "for i in CK:\n",
    "    k = 0\n",
    "    n1 = []\n",
    "    n2 = []\n",
    "    for j in i:\n",
    "        if k%2==0:\n",
    "            n1.append(np.sum(j))\n",
    "        else:\n",
    "            n2.append(np.sum(j))\n",
    "        k += 1    \n",
    "    a.append(sum(n1))\n",
    "    b.append(sum(n2))\n",
    "zdf['1'] = a\n",
    "zdf['2'] = b"
   ]
  },
  {
   "cell_type": "code",
   "execution_count": 195,
   "metadata": {},
   "outputs": [
    {
     "name": "stderr",
     "output_type": "stream",
     "text": [
      "c:\\Python310\\lib\\site-packages\\sklearn\\base.py:450: UserWarning: X does not have valid feature names, but LinearRegression was fitted with feature names\n",
      "  warnings.warn(\n"
     ]
    }
   ],
   "source": [
    "predict = LRmodel.predict([[sum(zdf['1']),sum(zdf['2'])]])"
   ]
  },
  {
   "cell_type": "code",
   "execution_count": 196,
   "metadata": {},
   "outputs": [],
   "source": [
    "x = round(predict[0][0])%26\n",
    "y = round(predict[0][1])%26"
   ]
  },
  {
   "cell_type": "code",
   "execution_count": 197,
   "metadata": {},
   "outputs": [
    {
     "name": "stdout",
     "output_type": "stream",
     "text": [
      "111897\n"
     ]
    }
   ],
   "source": [
    "cipher = cipher.split(' ')\n",
    "print(len(cipher))"
   ]
  },
  {
   "cell_type": "code",
   "execution_count": 198,
   "metadata": {},
   "outputs": [],
   "source": [
    "txt = []\n",
    "for each in cipher:\n",
    "    try:\n",
    "        ch = ord(each) - x + y #ord means we are converting back to ascii format\n",
    "        txt.append(int(ch))\n",
    "    except:\n",
    "        pass"
   ]
  },
  {
   "cell_type": "code",
   "execution_count": 199,
   "metadata": {},
   "outputs": [],
   "source": [
    "text = \"\"\n",
    "for t in txt:\n",
    "    text += chr(t) # converting ascii values into string"
   ]
  },
  {
   "cell_type": "code",
   "execution_count": 200,
   "metadata": {},
   "outputs": [],
   "source": [
    "de = AESCipher(text,SK1.hexdigest()).decrypt()"
   ]
  },
  {
   "cell_type": "code",
   "execution_count": 201,
   "metadata": {},
   "outputs": [],
   "source": [
    "de = de.encode(\"utf-8\")"
   ]
  },
  {
   "cell_type": "code",
   "execution_count": 202,
   "metadata": {},
   "outputs": [],
   "source": [
    "with open(\"DecryptedImg3.png\", \"wb\") as fh:\n",
    "    fh.write(base64.decodebytes(de))"
   ]
  }
 ],
 "metadata": {
  "kernelspec": {
   "display_name": "Python 3.10.2 64-bit",
   "language": "python",
   "name": "python3"
  },
  "language_info": {
   "codemirror_mode": {
    "name": "ipython",
    "version": 3
   },
   "file_extension": ".py",
   "mimetype": "text/x-python",
   "name": "python",
   "nbconvert_exporter": "python",
   "pygments_lexer": "ipython3",
   "version": "3.10.2"
  },
  "vscode": {
   "interpreter": {
    "hash": "369f2c481f4da34e4445cda3fffd2e751bd1c4d706f27375911949ba6bb62e1c"
   }
  }
 },
 "nbformat": 4,
 "nbformat_minor": 4
}
